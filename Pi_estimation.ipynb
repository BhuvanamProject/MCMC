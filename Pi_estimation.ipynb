{
 "cells": [
  {
   "cell_type": "markdown",
   "id": "rotary-transformation",
   "metadata": {},
   "source": [
    "# Pi\n",
    "\n",
    "\n",
    "## Estimating Pi "
   ]
  },
  {
   "cell_type": "code",
   "execution_count": 2,
   "id": "solar-valentine",
   "metadata": {},
   "outputs": [],
   "source": [
    "import numpy as np\n",
    "import matplotlib.pyplot as plt\n",
    "import emcee\n",
    "import corner\n",
    "import random\n",
    "import cv2\n",
    "%matplotlib inline\n",
    "plt.rcParams['figure.figsize'] = (20,10)\n",
    "\n",
    "np.random.seed(1)"
   ]
  },
  {
   "cell_type": "markdown",
   "id": "worldwide-motion",
   "metadata": {},
   "source": [
    "Lets consider some random points (how many? - number given by variable trials) in a square of side 2 units. \n",
    "\n",
    "The pictorial representation is given as below. "
   ]
  },
  {
   "cell_type": "code",
   "execution_count": null,
   "id": "linear-associate",
   "metadata": {},
   "outputs": [],
   "source": [
    "trials = 1000 \n",
    "data = []\n",
    "for i in range(trials):\n",
    "    data.append((np.random.randint(500), np.random.randint(500)))\n",
    "\n",
    "img = np.ones((500,500,3)) * 255\n",
    "img = cv2.rectangle(img, (0,0),(500,500), (0,255,255), 5)\n",
    "img = cv2.circle(img, (250,250), 250, (255,2555,0), 2)\n",
    "\n",
    "cv2.imshow(\"img\", img)\n",
    "cv2.waitKey(0)\n",
    "\n",
    "for i in range(trials):\n",
    "    cv2.circle(img, data[i], 2, (0,0,0), 2)\n",
    "    \n",
    "cv2.imshow(\"img\", img)\n",
    "cv2.waitKey(0)\n",
    "cv2.destroyAllWindows()"
   ]
  },
  {
   "cell_type": "markdown",
   "id": "stainless-israel",
   "metadata": {},
   "source": [
    "Lets know the coordinates of these points. So we have i vectors and their coordinates. "
   ]
  },
  {
   "cell_type": "code",
   "execution_count": 4,
   "id": "confident-excerpt",
   "metadata": {},
   "outputs": [],
   "source": [
    "trails = 1000 # number of data points\n",
    "def get_theta():\n",
    "    theta_i = np.random.randn(2)  # gives random (x,y)\n",
    "    return theta_i"
   ]
  },
  {
   "cell_type": "markdown",
   "id": "boolean-silicon",
   "metadata": {},
   "source": [
    "Set Counters "
   ]
  },
  {
   "cell_type": "code",
   "execution_count": 5,
   "id": "technical-missouri",
   "metadata": {},
   "outputs": [],
   "source": [
    "all_theta = []\n",
    "\n",
    "for i in range(trails):\n",
    "    theta = get_theta()\n",
    "    all_theta.append(theta)"
   ]
  },
  {
   "cell_type": "markdown",
   "id": "local-exhaust",
   "metadata": {},
   "source": [
    "Set conditions to know how many points are there with a circle of radius 1 units. "
   ]
  },
  {
   "cell_type": "code",
   "execution_count": 6,
   "id": "nonprofit-desert",
   "metadata": {},
   "outputs": [],
   "source": [
    "def check_validity(theta):\n",
    "    if theta[0] ** 2 + theta[1] ** 2 <= 1: # inside circle\n",
    "        valid = 0\n",
    "    else:\n",
    "        if -1 <= theta[0] <= 1 and -1 <= theta[1] <= 1:  # inside square\n",
    "            valid = 1\n",
    "        else:\n",
    "            valid = None\n",
    "    return valid"
   ]
  },
  {
   "cell_type": "code",
   "execution_count": 7,
   "id": "impressive-organizer",
   "metadata": {},
   "outputs": [],
   "source": [
    "is_valid = True\n",
    "number_of_points_inside_circle = 0\n",
    "number_of_points_inside_square = 0\n",
    "\n",
    "for i in range(trails):\n",
    "    is_valid = check_validity(all_theta[i])\n",
    "    if is_valid == 0:\n",
    "        number_of_points_inside_circle += 1\n",
    "        number_of_points_inside_square += 1\n",
    "    elif is_valid == 1:\n",
    "        number_of_points_inside_square += 1"
   ]
  },
  {
   "cell_type": "code",
   "execution_count": 8,
   "id": "centered-classics",
   "metadata": {},
   "outputs": [
    {
     "name": "stdout",
     "output_type": "stream",
     "text": [
      "number of points inside square :  445\n",
      "number of points inside circle :  363\n",
      "3.262921348314607\n"
     ]
    }
   ],
   "source": [
    "pi = 4 * number_of_points_inside_circle / number_of_points_inside_square  # 4*area_square*area*circle\n",
    "print(\"number of points inside square : \", number_of_points_inside_square)\n",
    "print(\"number of points inside circle : \", number_of_points_inside_circle)\n",
    "print(pi)"
   ]
  },
  {
   "cell_type": "code",
   "execution_count": null,
   "id": "valued-puzzle",
   "metadata": {},
   "outputs": [],
   "source": []
  }
 ],
 "metadata": {
  "kernelspec": {
   "display_name": "Python 3",
   "language": "python",
   "name": "python3"
  },
  "language_info": {
   "codemirror_mode": {
    "name": "ipython",
    "version": 3
   },
   "file_extension": ".py",
   "mimetype": "text/x-python",
   "name": "python",
   "nbconvert_exporter": "python",
   "pygments_lexer": "ipython3",
   "version": "3.7.10"
  }
 },
 "nbformat": 4,
 "nbformat_minor": 5
}
